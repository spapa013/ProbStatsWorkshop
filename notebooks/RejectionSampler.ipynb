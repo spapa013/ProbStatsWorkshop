{
 "cells": [
  {
   "cell_type": "markdown",
   "metadata": {},
   "source": [
    "### Rejection Sampler"
   ]
  },
  {
   "cell_type": "code",
   "execution_count": 10,
   "metadata": {},
   "outputs": [],
   "source": [
    "import numpy as np\n",
    "import matplotlib.pyplot as plt"
   ]
  },
  {
   "cell_type": "code",
   "execution_count": 162,
   "metadata": {},
   "outputs": [],
   "source": [
    "def sampler_function(n_samples, sample_distribution='gaussian', a=0, b=1):\n",
    "    if sample_distribution == 'uniform':\n",
    "        samples = np.random.uniform(a,b, n_samples)\n",
    "        probability = 1 / (b - a) * np.ones(n_samples)\n",
    "        \n",
    "    elif sample_distribution == 'gaussian':\n",
    "        samples = np.random.normal(a,b,n_samples)\n",
    "        probability = (1 / (np.sqrt(2 * np.pi * b * b))) * np.exp(-1 * (((samples - a)**2) / (2 * b * b)))\n",
    "        \n",
    "    else:\n",
    "        raise NotImplementedError\n",
    "    return samples, probability"
   ]
  },
  {
   "cell_type": "code",
   "execution_count": 109,
   "metadata": {},
   "outputs": [],
   "source": [
    "def target_density(samples):\n",
    "    return np.sin(samples)**2"
   ]
  },
  {
   "cell_type": "code",
   "execution_count": 150,
   "metadata": {},
   "outputs": [],
   "source": [
    "def rejection_sampler(n_samples, sampler, target):\n",
    "    samples, sample_prob = sampler(n_samples)\n",
    "    \n",
    "    targ_prob = target(samples)\n",
    "    \n",
    "    k = (targ_prob / sample_prob).max()\n",
    "    \n",
    "    accepted = targ_prob / (sample_prob * k) > np.random.rand(n_samples)\n",
    "    \n",
    "    rej = 1 - len(samples[accepted]) / n_samples\n",
    "    \n",
    "    return samples[accepted], rej"
   ]
  },
  {
   "cell_type": "code",
   "execution_count": 163,
   "metadata": {},
   "outputs": [],
   "source": [
    "# partial functions aka wrapper function\n",
    "def my_sampler(n_samples):\n",
    "    return sampler_function(n_samples, sample_distribution='uniform', a=0, b=10)"
   ]
  },
  {
   "cell_type": "code",
   "execution_count": 157,
   "metadata": {},
   "outputs": [],
   "source": [
    "accepted, rej = rejection_sampler(10000, my_sampler, target_density)"
   ]
  },
  {
   "cell_type": "code",
   "execution_count": 166,
   "metadata": {},
   "outputs": [
    {
     "data": {
      "text/plain": [
       "0.526"
      ]
     },
     "execution_count": 166,
     "metadata": {},
     "output_type": "execute_result"
    }
   ],
   "source": [
    "rej"
   ]
  },
  {
   "cell_type": "code",
   "execution_count": 165,
   "metadata": {},
   "outputs": [
    {
     "data": {
      "image/png": "[encoded data removed]",
      "text/plain": [
       "<Figure size 432x288 with 1 Axes>"
      ]
     },
     "metadata": {},
     "output_type": "display_data"
    }
   ],
   "source": [
    "plt.hist(accepted, 50);"
   ]
  },
  {
   "cell_type": "code",
   "execution_count": null,
   "metadata": {},
   "outputs": [],
   "source": []
  }
 ],
 "metadata": {
  "kernelspec": {
   "display_name": "Python 3",
   "language": "python",
   "name": "python3"
  },
  "language_info": {
   "codemirror_mode": {
    "name": "ipython",
    "version": 3
   },
   "file_extension": ".py",
   "mimetype": "text/x-python",
   "name": "python",
   "nbconvert_exporter": "python",
   "pygments_lexer": "ipython3",
   "version": "3.5.2"
  }
 },
 "nbformat": 4,
 "nbformat_minor": 2
}
